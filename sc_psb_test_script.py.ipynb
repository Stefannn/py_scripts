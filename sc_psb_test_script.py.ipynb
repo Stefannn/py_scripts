{
 "cells": [
  {
   "cell_type": "code",
   "execution_count": 33,
   "metadata": {
    "collapsed": false
   },
   "outputs": [],
   "source": [
    "import sys\n",
    "sys.path.append(\"../\")\n",
    "\n",
    "import numpy as np\n",
    "from scipy.constants import c, e\n",
    "import matplotlib.pyplot as plt\n",
    "\n",
    "\n",
    "import PyCERNmachines.CERNmachines as m\n",
    "from PySUSSIX import Sussix"
   ]
  },
  {
   "cell_type": "markdown",
   "metadata": {},
   "source": [
    "### tune analysis"
   ]
  },
  {
   "cell_type": "code",
   "execution_count": null,
   "metadata": {
    "collapsed": false
   },
   "outputs": [],
   "source": [
    "def tune_analysis(bunch, machine, x_i, xp_i, y_i, yp_i):\n",
    "\t\tn_turns = x_i.shape[1]\n",
    "\n",
    "\t\tqx_i = np.empty(bunch.macroparticlenumber)\n",
    "\t\tqy_i = np.empty(bunch.macroparticlenumber)\n",
    "\n",
    "\t\tspectrum_x = np.abs(np.fft.fft(x_i, axis = 1))[:,:n_turns/2]\n",
    "\t\ttune_peak_x = np.float_(np.argmax(spectrum_x, axis=1))/float(n_turns)\n",
    "\n",
    "\t\tspectrum_y = np.abs(np.fft.fft(y_i, axis = 1))[:,:n_turns/2]\n",
    "\t\ttune_peak_y = np.float_(np.argmax(spectrum_y, axis=1))/float(n_turns)\n",
    "\n",
    "\t\tprint 'analysing particle spectra ... this may take some time.'\n",
    "\t\tfor p_idx in xrange(bunch.macroparticlenumber):\n",
    "\t\t\t\n",
    "\t\t\tSX = Sussix()\n",
    "\t\t\tSX.sussix_inp(nt1=1, nt2=n_turns, idam=2, ir=0, tunex=tune_peak_x[p_idx], tuney=tune_peak_y[p_idx])\n",
    "\n",
    "\t\t\tSX.sussix(x_i[p_idx,:], xp_i[p_idx,:],\n",
    "\t\t\t\t\t  y_i[p_idx,:], yp_i[p_idx,:],\n",
    "\t\t\t\t\t  x_i[p_idx,:], xp_i[p_idx,:]) \n",
    "\t\t\tqx_i[p_idx] = SX.ox[0]\n",
    "\t\t\tqy_i[p_idx] = SX.oy[0]\n",
    "\t\t\t\n",
    "\t\t\tsys.stdout.write('\\rparticle %d'%p_idx)\n",
    "\t\t\t\t\n",
    "\t\tx_centroid = np.mean(x_i, axis=0)\n",
    "\t\txp_centroid = np.mean(xp_i, axis=0)\n",
    "\t\ty_centroid = np.mean(y_i, axis=0)\n",
    "\t\typ_centroid = np.mean(yp_i, axis=0)\n",
    "\t\t\n",
    "\t\t#print x_centroid.shape\n",
    "\n",
    "\t\tSX = Sussix()\n",
    "\t\tSX.sussix_inp(nt1=1, nt2=n_turns, idam=2, ir=0, tunex=machine.Q_x%1, tuney=machine.Q_y%1)\n",
    "\t\tSX.sussix(x_centroid, xp_centroid,\n",
    "\t\t\t\t  y_centroid, yp_centroid,\n",
    "\t\t\t\t  x_centroid, xp_centroid) \n",
    "\t\tqx_centroid = SX.ox[0]\n",
    "\t\tqy_centroid = SX.oy[0]\n",
    "\n",
    "\t\treturn qx_i, qy_i, qx_centroid, qy_centroid\n",
    "    \n",
    "\n",
    "def plot_tune_spread(bunch, machine, x_i, xp_i, y_i, yp_i):\n",
    "    qx_i, qx_i, qx_centroid, qy_centroid = tune_analysis(bunch,  machine, x_i, xp_i, y_i, yp_i)\n",
    "    plt.plot(np.abs(qx_i), np.abs(qy_i), '.')\n",
    "    plt.plot([np.modf(machine.Q_x)[0]], [np.modf(machine.Q_y)[0]], 'ro', label='Bare tune')\n",
    "    #if flag_initial_displacement:\n",
    "    #    plt.plot([np.abs(qx_centroid)], [np.abs(qy_centroid)], 'xg', markersize = 10, label='Coherent tune')\n",
    "    #plt.plot([.15, .30], [.15, .30], 'k')\n",
    "    plt.legend(loc='lower right')\n",
    "    plt.xlabel('$Q_x$');plt.ylabel('$Q_y$')\n",
    "    plt.axis('equal')\n",
    "    plt.show()"
   ]
  },
  {
   "cell_type": "markdown",
   "metadata": {},
   "source": [
    "### simulation parameters"
   ]
  },
  {
   "cell_type": "code",
   "execution_count": 46,
   "metadata": {
    "collapsed": true
   },
   "outputs": [],
   "source": [
    "n_particles = 10000#1000000\n",
    "n_turns = 128\n",
    "epsn_x = 2.5e-6\n",
    "epsn_y = 2.5e-6\n",
    "sigma_z = 0.23\n",
    "intensity = 1.0e11"
   ]
  },
  {
   "cell_type": "markdown",
   "metadata": {},
   "source": [
    "### load optics (sps)"
   ]
  },
  {
   "cell_type": "code",
   "execution_count": 47,
   "metadata": {
    "collapsed": false
   },
   "outputs": [
    {
     "name": "stdout",
     "output_type": "stream",
     "text": [
      "36\n"
     ]
    }
   ],
   "source": [
    "optix = np.loadtxt('SPS_optics_q20.dat')\n",
    "beta_x = optix[:,0]\n",
    "beta_y = optix[:,1]\n",
    "D_x = optix[:,2]\n",
    "D_y = optix[:,3]\n",
    "n_segments = optix.shape[0]\n",
    "print n_segments"
   ]
  },
  {
   "cell_type": "markdown",
   "metadata": {},
   "source": [
    "### define the machine (sps)"
   ]
  },
  {
   "cell_type": "code",
   "execution_count": 48,
   "metadata": {
    "collapsed": false
   },
   "outputs": [
    {
     "name": "stdout",
     "output_type": "stream",
     "text": [
      "Synchrotron init. From kwargs: D_x = array([ 7.95719698,  5.65643658,  1.87130559,  1.2283289 ,  4.51340999,\n",
      "        7.7112296 ,  6.91312723,  3.09461482, -0.45438555, -1.00827514,\n",
      "       -0.34154528,  3.43066005,  7.1540663 ,  7.56256528,  4.15685308,\n",
      "        1.09969507,  2.12782259,  5.98456643,  7.95719698,  5.65643658,\n",
      "        1.87130559,  1.2283289 ,  4.51340999,  7.7112296 ,  6.91312723,\n",
      "        3.09461482, -0.45438555, -1.00827514, -0.34154528,  3.43066005,\n",
      "        7.1540663 ,  7.56256528,  4.15685308,  1.09969507,  2.12782259,\n",
      "        5.98456643])\n",
      "Synchrotron init. From kwargs: D_y = array([ 0.,  0.,  0.,  0.,  0.,  0.,  0.,  0.,  0.,  0.,  0.,  0.,  0.,\n",
      "        0.,  0.,  0.,  0.,  0.,  0.,  0.,  0.,  0.,  0.,  0.,  0.,  0.,\n",
      "        0.,  0.,  0.,  0.,  0.,  0.,  0.,  0.,  0.,  0.])\n",
      "Synchrotron init. From kwargs: beta_y = array([ 32.24200162,  32.00695787,  32.3821595 ,  32.09037677,\n",
      "        32.12487183,  32.3682195 ,  31.99203617,  32.2768934 ,\n",
      "        32.76208419,  32.69075339,  32.2784872 ,  32.03811873,\n",
      "        32.33484824,  32.12480271,  32.12300141,  32.33557617,\n",
      "        32.03889793,  32.24289373,  32.24200162,  32.00695787,\n",
      "        32.3821595 ,  32.09037677,  32.12487183,  32.3682195 ,\n",
      "        31.99203617,  32.2768934 ,  32.76208419,  32.69075339,\n",
      "        32.2784872 ,  32.03811873,  32.33484824,  32.12480271,\n",
      "        32.12300141,  32.33557617,  32.03889793,  32.24289373])\n",
      "Synchrotron init. From kwargs: beta_x = array([ 104.2872376,  104.1447945,  103.5273945,  104.531213 ,\n",
      "        103.7481196,  103.8368464,  104.4961512,  103.4875847,\n",
      "        102.9116877,  103.5670262,  104.2344447,  103.7951658,\n",
      "        104.064096 ,  104.128086 ,  103.7698791,  104.2056471,\n",
      "        103.9558853,  103.8685765,  104.2872376,  104.1447945,\n",
      "        103.5273945,  104.531213 ,  103.7481196,  103.8368464,\n",
      "        104.4961512,  103.4875847,  102.9116877,  103.5670262,\n",
      "        104.2344447,  103.7951658,  104.064096 ,  104.128086 ,\n",
      "        103.7698791,  104.2056471,  103.9558853,  103.8685765])\n",
      "Synchrotron init. From kwargs: longitudinal_focusing = 'linear'\n",
      "Synchrotron init. From kwargs: machine_configuration = 'Q20-injection'\n",
      "Synchrotron init. From kwargs: n_segments = 36\n",
      "\n",
      "*** PyHEADTAIL WARNING: Non-zero dispersion; ensure the beam has been \"blown-up\" accordingly upon creation!\n"
     ]
    }
   ],
   "source": [
    "\n",
    "machine = m.SPS(n_segments=n_segments, machine_configuration='Q20-injection', longitudinal_focusing='linear',\n",
    "               beta_x=beta_x, beta_y=beta_y, D_x=D_x, D_y=D_y)"
   ]
  },
  {
   "cell_type": "markdown",
   "metadata": {},
   "source": [
    "### create gaussian bunch"
   ]
  },
  {
   "cell_type": "code",
   "execution_count": 49,
   "metadata": {
    "collapsed": false
   },
   "outputs": [],
   "source": [
    "bunch = machine.generate_6D_Gaussian_bunch(n_macroparticles=n_particles, intensity=intensity,\n",
    "                                          epsn_x=epsn_x, epsn_y=epsn_y, sigma_z=sigma_z)"
   ]
  },
  {
   "cell_type": "markdown",
   "metadata": {},
   "source": [
    "### create the maps"
   ]
  },
  {
   "cell_type": "code",
   "execution_count": 50,
   "metadata": {
    "collapsed": false
   },
   "outputs": [
    {
     "name": "stdout",
     "output_type": "stream",
     "text": [
      "turn 127\n",
      "DONE\n"
     ]
    }
   ],
   "source": [
    "# particle positions for tune analysis\n",
    "x_i = np.empty((n_particles, n_turns))\n",
    "xp_i = np.empty((n_particles, n_turns))\n",
    "y_i = np.empty((n_particles, n_turns))\n",
    "yp_i = np.empty((n_particles, n_turns))\n",
    "\n",
    "# track and store\n",
    "for i in range(n_turns):    \n",
    "    machine.track(bunch)\n",
    "    \n",
    "    sys.stdout.write('\\rturn %d'%i)\n",
    "    sys.stdout.flush()\n",
    "    \n",
    "    x_i[:,i] = bunch.x[:]\n",
    "    xp_i[:,i] = bunch.xp[:]\n",
    "    y_i[:,i] = bunch.y[:]\n",
    "    yp_i[:,i] = bunch.yp[:]\n",
    "print '\\nDONE'\n"
   ]
  },
  {
   "cell_type": "code",
   "execution_count": null,
   "metadata": {
    "collapsed": false
   },
   "outputs": [
    {
     "name": "stdout",
     "output_type": "stream",
     "text": [
      "analysing particle spectra ... this may take some time.\n",
      "particle 6214"
     ]
    }
   ],
   "source": [
    "samples = 2000\n",
    "plot_tune_spread(bunch, machine, x_i[1:samples,:], xp_i[1:samples,:], y_i[1:samples,:], yp_i[1:samples,:])"
   ]
  },
  {
   "cell_type": "code",
   "execution_count": null,
   "metadata": {
    "collapsed": true
   },
   "outputs": [],
   "source": []
  }
 ],
 "metadata": {
  "kernelspec": {
   "display_name": "Python 2",
   "language": "python",
   "name": "python2"
  },
  "language_info": {
   "codemirror_mode": {
    "name": "ipython",
    "version": 2
   },
   "file_extension": ".py",
   "mimetype": "text/x-python",
   "name": "python",
   "nbconvert_exporter": "python",
   "pygments_lexer": "ipython2",
   "version": "2.7.10"
  }
 },
 "nbformat": 4,
 "nbformat_minor": 0
}
